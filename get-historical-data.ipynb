{
 "cells": [
  {
   "cell_type": "code",
   "execution_count": null,
   "id": "6fed51f4",
   "metadata": {},
   "outputs": [],
   "source": [
    "import os\n",
    "import requests\n",
    "import zipfile\n",
    "from datetime import datetime, timedelta\n",
    "from io import BytesIO\n",
    "import pandas as pd"
   ]
  },
  {
   "cell_type": "code",
   "execution_count": null,
   "id": "09d78d1d",
   "metadata": {},
   "outputs": [],
   "source": [
    "# Binance 1-minute data base URL\n",
    "BASE_URL = \"https://data.binance.vision/data/spot/monthly/klines/BTCUSDT/1m/BTCUSDT-1m-\"\n",
    "DOWNLOAD_DIR = \"binance_btc_1m_data\"\n",
    "# os.makedirs(DOWNLOAD_DIR, exist_ok=True)"
   ]
  },
  {
   "cell_type": "code",
   "execution_count": null,
   "id": "e6fea28c",
   "metadata": {},
   "outputs": [],
   "source": [
    "def generate_urls(start_year=2017, start_month=8):\n",
    "    current = datetime(start_year, start_month, 1)\n",
    "    today = datetime.today()\n",
    "    urls = [] \n",
    "    while current <= today:\n",
    "        y, m = current.year, current.month\n",
    "        month_str = f\"{y}-{m:02d}\"\n",
    "        url = f\"{BASE_URL}/{month_str}.zip\"\n",
    "        file_name = f\"{month_str}.zip\"\n",
    "        urls.append((url, file_name))\n",
    "        current += timedelta(days=32)\n",
    "        current = current.replace(day=1)\n",
    "    return urls\n",
    "\n",
    "def download_and_extract(url, file_name):\n",
    "    print(f\"Downloading: {url}\")\n",
    "    response = requests.get(url)\n",
    "    if response.status_code == 200:\n",
    "        with zipfile.ZipFile(BytesIO(response.content)) as z:\n",
    "            z.extractall(DOWNLOAD_DIR)\n",
    "            print(f\"Extracted: {file_name}\")\n",
    "    else:\n",
    "        print(f\"Failed to download {url} - Status Code: {response.status_code}\")\n"
   ]
  },
  {
   "cell_type": "code",
   "execution_count": null,
   "id": "7d52d3cb",
   "metadata": {},
   "outputs": [],
   "source": [
    "response = requests.get(\"https://data.binance.vision/?prefix=data/spot/monthly/klines/BTCUSDT/1m/BTCUSDT-1m-2017-08.zip\")\n",
    "if response.status_code == 200:\n",
    "        print(response.text)\n",
    "        with zipfile.ZipFile(BytesIO(response.content)) as z:\n",
    "            z.extractall(\"https://data.binance.vision/data/spot/monthly/klines/BTCUSDT/1m/BTCUSDT-1m-2017-08.zip\")\n",
    "            print(f\"Extracted: {\"2017-08\"}\")\n",
    "else:\n",
    "        print(f\"Failed to download {\"\"} - Status Code: {response.status_code}\")\n"
   ]
  },
  {
   "cell_type": "code",
   "execution_count": null,
   "id": "61d4c7b8",
   "metadata": {},
   "outputs": [],
   "source": [
    "# Download loop\n",
    "for url, file_name in generate_urls():\n",
    "    target_file = os.path.join(DOWNLOAD_DIR, file_name.replace(\".zip\", \".csv\"))\n",
    "    if not os.path.exists(target_file):\n",
    "        download_and_extract(url, file_name)"
   ]
  },
  {
   "cell_type": "code",
   "execution_count": null,
   "id": "f82cd468",
   "metadata": {},
   "outputs": [],
   "source": [
    "download_and_extract(DOWNLOAD_DIR)"
   ]
  },
  {
   "cell_type": "code",
   "execution_count": null,
   "id": "67845591",
   "metadata": {},
   "outputs": [],
   "source": [
    "generate_urls() "
   ]
  },
  {
   "cell_type": "code",
   "execution_count": null,
   "id": "a07d44e7",
   "metadata": {},
   "outputs": [],
   "source": [
    "https://data.binance.vision/data/spot/monthly/klines/BTCUSDT/1m/BTCUSDT-1m-2017-09.zip\n",
    "https://data.binance.vision/data/spot/monthly/klines/BTCUSDT/1m/BTCUSDT-1m-2017-08.zip"
   ]
  },
  {
   "cell_type": "code",
   "execution_count": null,
   "id": "59249f1a",
   "metadata": {},
   "outputs": [],
   "source": [
    "import os\n",
    "import requests\n",
    "import zipfile\n",
    "from datetime import datetime, timedelta\n",
    "from io import BytesIO\n",
    "\n",
    "# Binance 1-minute data base URL\n",
    "BASE_URL = \"https://data.binance.vision/data/spot/monthly/klines/BTCUSDT/1m\"\n",
    "DOWNLOAD_DIR = \"binance_btc_1m_data\"\n",
    "os.makedirs(DOWNLOAD_DIR, exist_ok=True)\n",
    "\n",
    "def generate_urls(start_year=2025, start_month=6):\n",
    "    current = datetime(start_year, start_month, 1)\n",
    "    today = datetime.today()\n",
    "    urls = []\n",
    "    while current <= today:\n",
    "        y, m = current.year, current.month\n",
    "        month_str = f\"{y}-{m:02d}\"\n",
    "        url = f\"{BASE_URL}/{month_str}.zip\"\n",
    "        file_name = f\"{month_str}.zip\"\n",
    "        urls.append((url, file_name))\n",
    "        current += timedelta(days=32)\n",
    "        current = current.replace(day=1)\n",
    "    return urls\n",
    "\n",
    "def download_and_extract(url, file_name):\n",
    "    print(f\"Downloading: {url}\")\n",
    "    response = requests.get(url)\n",
    "    if response.status_code == 200:\n",
    "        with zipfile.ZipFile(BytesIO(response.content)) as z:\n",
    "            z.extractall(DOWNLOAD_DIR)\n",
    "            print(f\"Extracted: {file_name}\")\n",
    "    else:\n",
    "        print(f\"Failed to download {url} - Status Code: {response.status_code}\")\n",
    "\n",
    "# Download loop\n",
    "for url, file_name in generate_urls():\n",
    "    target_file = os.path.join(DOWNLOAD_DIR, file_name.replace(\".zip\", \".csv\"))\n",
    "    if not os.path.exists(target_file):\n",
    "        download_and_extract(url, file_name)\n"
   ]
  },
  {
   "cell_type": "code",
   "execution_count": null,
   "id": "f5e6a636",
   "metadata": {},
   "outputs": [],
   "source": [
    "import requests, zipfile\n",
    "zip_file_url=\"https://data.binance.vision/data/spot/monthly/klines/BTCUSDT/1m/BTCUSDT-1m-2017-10.zip\"\n",
    "r = requests.get(zip_file_url, stream=True)\n",
    "z = zipfile.ZipFile(BytesIO(r.content))\n",
    "z.extractall()"
   ]
  },
  {
   "cell_type": "code",
   "execution_count": null,
   "id": "3003577e",
   "metadata": {},
   "outputs": [],
   "source": [
    "import requests, zipfile\n",
    "zip_file_url=\"https://data.binance.vision/data/spot/monthly/klines/BTCUSDT/1m/BTCUSDT-1m-2018-01.zip\"\n",
    "r = requests.get(zip_file_url, stream=True)\n",
    "z = zipfile.ZipFile(BytesIO(r.content))\n",
    "z.extractall(path=\"BTCUSDT-1m\")"
   ]
  },
  {
   "cell_type": "code",
   "execution_count": null,
   "id": "93bea233",
   "metadata": {},
   "outputs": [],
   "source": [
    "os.listdir(\"BTCUSDT-1m\")"
   ]
  },
  {
   "cell_type": "code",
   "execution_count": null,
   "id": "a1ec67eb",
   "metadata": {},
   "outputs": [],
   "source": [
    "import shutil"
   ]
  },
  {
   "cell_type": "code",
   "execution_count": null,
   "id": "fae70cb2",
   "metadata": {},
   "outputs": [],
   "source": [
    "import pprint\n"
   ]
  },
  {
   "cell_type": "code",
   "execution_count": null,
   "id": "56a4e1fb",
   "metadata": {},
   "outputs": [],
   "source": [
    "os.path.basename(os.getcwd())"
   ]
  },
  {
   "cell_type": "code",
   "execution_count": null,
   "id": "bd1529f6",
   "metadata": {},
   "outputs": [],
   "source": [
    "os.sysconf_names"
   ]
  },
  {
   "cell_type": "code",
   "execution_count": null,
   "id": "5be13214",
   "metadata": {},
   "outputs": [],
   "source": [
    "df = pd.read_csv(\"BTCUSDT-1m/BTCUSDT-1m-2018-01.csv\", header=None)\n",
    "df.columns = [\"open_time\", \"open\", \"high\", \"low\", \"close\", \"volume\",\n",
    "              \"close_time\", \"quote_volume\", \"num_trades\",\n",
    "              \"taker_buy_base\", \"taker_buy_quote\", \"ignore\"]\n",
    "df[\"open_time\"] = pd.to_datetime(df[\"open_time\"], unit='ms')\n",
    "df[\"close_time\"] = pd.to_datetime(df[\"close_time\"], unit='ms')\n",
    "df.head()"
   ]
  },
  {
   "cell_type": "code",
   "execution_count": null,
   "id": "59a09ed7",
   "metadata": {},
   "outputs": [],
   "source": [
    "#subprocess.run([\"bash\", \"-c\", \"echo Hello from Bash\"])\n",
    "res = subprocess.run([\"bash\", \"-c\", \"ls\"], capture_output=True, text=True)\n",
    "print(res.stdout)\n",
    "res.stdout.split()"
   ]
  }
 ],
 "metadata": {
  "kernelspec": {
   "display_name": "base",
   "language": "python",
   "name": "python3"
  },
  "language_info": {
   "codemirror_mode": {
    "name": "ipython",
    "version": 3
   },
   "file_extension": ".py",
   "mimetype": "text/x-python",
   "name": "python",
   "nbconvert_exporter": "python",
   "pygments_lexer": "ipython3",
   "version": "3.12.7"
  }
 },
 "nbformat": 4,
 "nbformat_minor": 5
}
