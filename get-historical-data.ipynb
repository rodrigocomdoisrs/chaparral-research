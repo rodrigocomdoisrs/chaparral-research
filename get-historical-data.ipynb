{
 "cells": [
  {
   "cell_type": "code",
   "execution_count": 1,
   "id": "6fed51f4",
   "metadata": {},
   "outputs": [],
   "source": [
    "import os\n",
    "import requests\n",
    "import zipfile\n",
    "from datetime import datetime, timedelta\n",
    "from io import BytesIO\n",
    "import pandas as pd"
   ]
  },
  {
   "cell_type": "code",
   "execution_count": null,
   "id": "09d78d1d",
   "metadata": {},
   "outputs": [],
   "source": [
    "# Binance 1-minute data base URL\n",
    "BASE_URL = \"https://data.binance.vision/data/spot/monthly/klines/BTCUSDT/1m/BTCUSDT-1m-\"\n",
    "DOWNLOAD_DIR = \"binance_btc_1m_data\"\n",
    "# os.makedirs(DOWNLOAD_DIR, exist_ok=True)"
   ]
  },
  {
   "cell_type": "code",
   "execution_count": null,
   "id": "e6fea28c",
   "metadata": {},
   "outputs": [],
   "source": [
    "def generate_urls(start_year=2017, start_month=8):\n",
    "    current = datetime(start_year, start_month, 1)\n",
    "    today = datetime.today()\n",
    "    urls = [] \n",
    "    while current <= today:\n",
    "        y, m = current.year, current.month\n",
    "        month_str = f\"{y}-{m:02d}\"\n",
    "        url = f\"{BASE_URL}/{month_str}.zip\"\n",
    "        file_name = f\"{month_str}.zip\"\n",
    "        urls.append((url, file_name))\n",
    "        current += timedelta(days=32)\n",
    "        current = current.replace(day=1)\n",
    "    return urls\n",
    "\n",
    "def download_and_extract(url, file_name):\n",
    "    print(f\"Downloading: {url}\")\n",
    "    response = requests.get(url)\n",
    "    if response.status_code == 200:\n",
    "        with zipfile.ZipFile(BytesIO(response.content)) as z:\n",
    "            z.extractall(DOWNLOAD_DIR)\n",
    "            print(f\"Extracted: {file_name}\")\n",
    "    else:\n",
    "        print(f\"Failed to download {url} - Status Code: {response.status_code}\")\n"
   ]
  },
  {
   "cell_type": "code",
   "execution_count": null,
   "id": "7d52d3cb",
   "metadata": {},
   "outputs": [],
   "source": [
    "response = requests.get(\"https://data.binance.vision/?prefix=data/spot/monthly/klines/BTCUSDT/1m/BTCUSDT-1m-2017-08.zip\")\n",
    "if response.status_code == 200:\n",
    "        print(response.text)\n",
    "        with zipfile.ZipFile(BytesIO(response.content)) as z:\n",
    "            z.extractall(\"https://data.binance.vision/data/spot/monthly/klines/BTCUSDT/1m/BTCUSDT-1m-2017-08.zip\")\n",
    "            print(f\"Extracted: {\"2017-08\"}\")\n",
    "else:\n",
    "        print(f\"Failed to download {\"\"} - Status Code: {response.status_code}\")\n"
   ]
  },
  {
   "cell_type": "code",
   "execution_count": null,
   "id": "61d4c7b8",
   "metadata": {},
   "outputs": [],
   "source": [
    "# Download loop\n",
    "for url, file_name in generate_urls():\n",
    "    target_file = os.path.join(DOWNLOAD_DIR, file_name.replace(\".zip\", \".csv\"))\n",
    "    if not os.path.exists(target_file):\n",
    "        download_and_extract(url, file_name)"
   ]
  },
  {
   "cell_type": "code",
   "execution_count": null,
   "id": "f82cd468",
   "metadata": {},
   "outputs": [],
   "source": [
    "download_and_extract(DOWNLOAD_DIR)"
   ]
  },
  {
   "cell_type": "code",
   "execution_count": null,
   "id": "67845591",
   "metadata": {},
   "outputs": [],
   "source": [
    "generate_urls() "
   ]
  },
  {
   "cell_type": "code",
   "execution_count": null,
   "id": "a07d44e7",
   "metadata": {},
   "outputs": [],
   "source": [
    "https://data.binance.vision/data/spot/monthly/klines/BTCUSDT/1m/BTCUSDT-1m-2017-09.zip\n",
    "https://data.binance.vision/data/spot/monthly/klines/BTCUSDT/1m/BTCUSDT-1m-2017-08.zip"
   ]
  },
  {
   "cell_type": "code",
   "execution_count": null,
   "id": "59249f1a",
   "metadata": {},
   "outputs": [],
   "source": [
    "import os\n",
    "import requests\n",
    "import zipfile\n",
    "from datetime import datetime, timedelta\n",
    "from io import BytesIO\n",
    "\n",
    "# Binance 1-minute data base URL\n",
    "BASE_URL = \"https://data.binance.vision/data/spot/monthly/klines/BTCUSDT/1m\"\n",
    "DOWNLOAD_DIR = \"binance_btc_1m_data\"\n",
    "os.makedirs(DOWNLOAD_DIR, exist_ok=True)\n",
    "\n",
    "def generate_urls(start_year=2025, start_month=6):\n",
    "    current = datetime(start_year, start_month, 1)\n",
    "    today = datetime.today()\n",
    "    urls = []\n",
    "    while current <= today:\n",
    "        y, m = current.year, current.month\n",
    "        month_str = f\"{y}-{m:02d}\"\n",
    "        url = f\"{BASE_URL}/{month_str}.zip\"\n",
    "        file_name = f\"{month_str}.zip\"\n",
    "        urls.append((url, file_name))\n",
    "        current += timedelta(days=32)\n",
    "        current = current.replace(day=1)\n",
    "    return urls\n",
    "\n",
    "def download_and_extract(url, file_name):\n",
    "    print(f\"Downloading: {url}\")\n",
    "    response = requests.get(url)\n",
    "    if response.status_code == 200:\n",
    "        with zipfile.ZipFile(BytesIO(response.content)) as z:\n",
    "            z.extractall(DOWNLOAD_DIR)\n",
    "            print(f\"Extracted: {file_name}\")\n",
    "    else:\n",
    "        print(f\"Failed to download {url} - Status Code: {response.status_code}\")\n",
    "\n",
    "# Download loop\n",
    "for url, file_name in generate_urls():\n",
    "    target_file = os.path.join(DOWNLOAD_DIR, file_name.replace(\".zip\", \".csv\"))\n",
    "    if not os.path.exists(target_file):\n",
    "        download_and_extract(url, file_name)\n"
   ]
  },
  {
   "cell_type": "code",
   "execution_count": 5,
   "id": "f5e6a636",
   "metadata": {},
   "outputs": [],
   "source": [
    "import requests, zipfile\n",
    "zip_file_url=\"https://data.binance.vision/data/spot/monthly/klines/BTCUSDT/1m/BTCUSDT-1m-2017-10.zip\"\n",
    "r = requests.get(zip_file_url, stream=True)\n",
    "z = zipfile.ZipFile(BytesIO(r.content))\n",
    "z.extractall()"
   ]
  },
  {
   "cell_type": "code",
   "execution_count": 2,
   "id": "3003577e",
   "metadata": {},
   "outputs": [],
   "source": [
    "import requests, zipfile\n",
    "zip_file_url=\"https://data.binance.vision/data/spot/monthly/klines/BTCUSDT/1m/BTCUSDT-1m-2018-01.zip\"\n",
    "r = requests.get(zip_file_url, stream=True)\n",
    "z = zipfile.ZipFile(BytesIO(r.content))\n",
    "z.extractall(path=\"BTCUSDT-1m\")"
   ]
  },
  {
   "cell_type": "code",
   "execution_count": null,
   "id": "93bea233",
   "metadata": {},
   "outputs": [],
   "source": [
    "os.listdir(\"BTCUSDT-1m\")"
   ]
  },
  {
   "cell_type": "code",
   "execution_count": 3,
   "id": "a1ec67eb",
   "metadata": {},
   "outputs": [],
   "source": [
    "import shutil"
   ]
  },
  {
   "cell_type": "code",
   "execution_count": null,
   "id": "fae70cb2",
   "metadata": {},
   "outputs": [],
   "source": [
    "import pprint\n"
   ]
  },
  {
   "cell_type": "code",
   "execution_count": 14,
   "id": "56a4e1fb",
   "metadata": {},
   "outputs": [
    {
     "data": {
      "text/plain": [
       "'chaparral-research'"
      ]
     },
     "execution_count": 14,
     "metadata": {},
     "output_type": "execute_result"
    }
   ],
   "source": [
    "os.path.basename(os.getcwd())"
   ]
  },
  {
   "cell_type": "code",
   "execution_count": 25,
   "id": "bd1529f6",
   "metadata": {},
   "outputs": [
    {
     "data": {
      "text/plain": [
       "{'SC_2_CHAR_TERM': 95,\n",
       " 'SC_2_C_BIND': 47,\n",
       " 'SC_2_C_DEV': 48,\n",
       " 'SC_2_C_VERSION': 96,\n",
       " 'SC_2_FORT_DEV': 49,\n",
       " 'SC_2_FORT_RUN': 50,\n",
       " 'SC_2_LOCALEDEF': 52,\n",
       " 'SC_2_SW_DEV': 51,\n",
       " 'SC_2_UPE': 97,\n",
       " 'SC_2_VERSION': 46,\n",
       " 'SC_AIO_LISTIO_MAX': 23,\n",
       " 'SC_AIO_MAX': 24,\n",
       " 'SC_AIO_PRIO_DELTA_MAX': 25,\n",
       " 'SC_ARG_MAX': 0,\n",
       " 'SC_ASYNCHRONOUS_IO': 12,\n",
       " 'SC_ATEXIT_MAX': 87,\n",
       " 'SC_AVPHYS_PAGES': 86,\n",
       " 'SC_BC_BASE_MAX': 36,\n",
       " 'SC_BC_DIM_MAX': 37,\n",
       " 'SC_BC_SCALE_MAX': 38,\n",
       " 'SC_BC_STRING_MAX': 39,\n",
       " 'SC_CHARCLASS_NAME_MAX': 45,\n",
       " 'SC_CHAR_BIT': 101,\n",
       " 'SC_CHAR_MAX': 102,\n",
       " 'SC_CHAR_MIN': 103,\n",
       " 'SC_CHILD_MAX': 1,\n",
       " 'SC_CLK_TCK': 2,\n",
       " 'SC_COLL_WEIGHTS_MAX': 40,\n",
       " 'SC_DELAYTIMER_MAX': 26,\n",
       " 'SC_EQUIV_CLASS_MAX': 41,\n",
       " 'SC_EXPR_NEST_MAX': 42,\n",
       " 'SC_FSYNC': 15,\n",
       " 'SC_GETGR_R_SIZE_MAX': 69,\n",
       " 'SC_GETPW_R_SIZE_MAX': 70,\n",
       " 'SC_INT_MAX': 104,\n",
       " 'SC_INT_MIN': 105,\n",
       " 'SC_IOV_MAX': 60,\n",
       " 'SC_JOB_CONTROL': 7,\n",
       " 'SC_LINE_MAX': 43,\n",
       " 'SC_LOGIN_NAME_MAX': 71,\n",
       " 'SC_LONG_BIT': 106,\n",
       " 'SC_MAPPED_FILES': 16,\n",
       " 'SC_MB_LEN_MAX': 108,\n",
       " 'SC_MEMLOCK': 17,\n",
       " 'SC_MEMLOCK_RANGE': 18,\n",
       " 'SC_MEMORY_PROTECTION': 19,\n",
       " 'SC_MESSAGE_PASSING': 20,\n",
       " 'SC_MQ_OPEN_MAX': 27,\n",
       " 'SC_MQ_PRIO_MAX': 28,\n",
       " 'SC_NGROUPS_MAX': 3,\n",
       " 'SC_NL_ARGMAX': 119,\n",
       " 'SC_NL_LANGMAX': 120,\n",
       " 'SC_NL_MSGMAX': 121,\n",
       " 'SC_NL_NMAX': 122,\n",
       " 'SC_NL_SETMAX': 123,\n",
       " 'SC_NL_TEXTMAX': 124,\n",
       " 'SC_NPROCESSORS_CONF': 83,\n",
       " 'SC_NPROCESSORS_ONLN': 84,\n",
       " 'SC_NZERO': 109,\n",
       " 'SC_OPEN_MAX': 4,\n",
       " 'SC_PAGESIZE': 30,\n",
       " 'SC_PAGE_SIZE': 30,\n",
       " 'SC_PASS_MAX': 88,\n",
       " 'SC_PHYS_PAGES': 85,\n",
       " 'SC_PII': 53,\n",
       " 'SC_PII_INTERNET': 56,\n",
       " 'SC_PII_INTERNET_DGRAM': 62,\n",
       " 'SC_PII_INTERNET_STREAM': 61,\n",
       " 'SC_PII_OSI': 57,\n",
       " 'SC_PII_OSI_CLTS': 64,\n",
       " 'SC_PII_OSI_COTS': 63,\n",
       " 'SC_PII_OSI_M': 65,\n",
       " 'SC_PII_SOCKET': 55,\n",
       " 'SC_PII_XTI': 54,\n",
       " 'SC_POLL': 58,\n",
       " 'SC_PRIORITIZED_IO': 13,\n",
       " 'SC_PRIORITY_SCHEDULING': 10,\n",
       " 'SC_REALTIME_SIGNALS': 9,\n",
       " 'SC_RE_DUP_MAX': 44,\n",
       " 'SC_RTSIG_MAX': 31,\n",
       " 'SC_SAVED_IDS': 8,\n",
       " 'SC_SCHAR_MAX': 111,\n",
       " 'SC_SCHAR_MIN': 112,\n",
       " 'SC_SELECT': 59,\n",
       " 'SC_SEMAPHORES': 21,\n",
       " 'SC_SEM_NSEMS_MAX': 32,\n",
       " 'SC_SEM_VALUE_MAX': 33,\n",
       " 'SC_SHARED_MEMORY_OBJECTS': 22,\n",
       " 'SC_SHRT_MAX': 113,\n",
       " 'SC_SHRT_MIN': 114,\n",
       " 'SC_SIGQUEUE_MAX': 34,\n",
       " 'SC_SSIZE_MAX': 110,\n",
       " 'SC_STREAM_MAX': 5,\n",
       " 'SC_SYNCHRONIZED_IO': 14,\n",
       " 'SC_THREADS': 67,\n",
       " 'SC_THREAD_ATTR_STACKADDR': 77,\n",
       " 'SC_THREAD_ATTR_STACKSIZE': 78,\n",
       " 'SC_THREAD_DESTRUCTOR_ITERATIONS': 73,\n",
       " 'SC_THREAD_KEYS_MAX': 74,\n",
       " 'SC_THREAD_PRIORITY_SCHEDULING': 79,\n",
       " 'SC_THREAD_PRIO_INHERIT': 80,\n",
       " 'SC_THREAD_PRIO_PROTECT': 81,\n",
       " 'SC_THREAD_PROCESS_SHARED': 82,\n",
       " 'SC_THREAD_SAFE_FUNCTIONS': 68,\n",
       " 'SC_THREAD_STACK_MIN': 75,\n",
       " 'SC_THREAD_THREADS_MAX': 76,\n",
       " 'SC_TIMERS': 11,\n",
       " 'SC_TIMER_MAX': 35,\n",
       " 'SC_TTY_NAME_MAX': 72,\n",
       " 'SC_TZNAME_MAX': 6,\n",
       " 'SC_T_IOV_MAX': 66,\n",
       " 'SC_UCHAR_MAX': 115,\n",
       " 'SC_UINT_MAX': 116,\n",
       " 'SC_UIO_MAXIOV': 60,\n",
       " 'SC_ULONG_MAX': 117,\n",
       " 'SC_USHRT_MAX': 118,\n",
       " 'SC_VERSION': 29,\n",
       " 'SC_WORD_BIT': 107,\n",
       " 'SC_XBS5_ILP32_OFF32': 125,\n",
       " 'SC_XBS5_ILP32_OFFBIG': 126,\n",
       " 'SC_XBS5_LP64_OFF64': 127,\n",
       " 'SC_XBS5_LPBIG_OFFBIG': 128,\n",
       " 'SC_XOPEN_CRYPT': 92,\n",
       " 'SC_XOPEN_ENH_I18N': 93,\n",
       " 'SC_XOPEN_LEGACY': 129,\n",
       " 'SC_XOPEN_REALTIME': 130,\n",
       " 'SC_XOPEN_REALTIME_THREADS': 131,\n",
       " 'SC_XOPEN_SHM': 94,\n",
       " 'SC_XOPEN_UNIX': 91,\n",
       " 'SC_XOPEN_VERSION': 89,\n",
       " 'SC_XOPEN_XCU_VERSION': 90,\n",
       " 'SC_XOPEN_XPG2': 98,\n",
       " 'SC_XOPEN_XPG3': 99,\n",
       " 'SC_XOPEN_XPG4': 100}"
      ]
     },
     "execution_count": 25,
     "metadata": {},
     "output_type": "execute_result"
    }
   ],
   "source": [
    "os.sysconf_names"
   ]
  },
  {
   "cell_type": "code",
   "execution_count": null,
   "id": "cb4cde35",
   "metadata": {},
   "outputs": [
    {
     "data": {
      "text/plain": [
       "['BTCUSDT-1m-2018-01.csv']"
      ]
     },
     "execution_count": 13,
     "metadata": {},
     "output_type": "execute_result"
    }
   ],
   "source": [
    "\n",
    "os.listdir(os.path.join(os.getcwd(), \"BTCUSDT-1m\"))"
   ]
  },
  {
   "cell_type": "code",
   "execution_count": null,
   "id": "5be13214",
   "metadata": {},
   "outputs": [],
   "source": [
    "df = pd.read_csv(\"BTCUSDT-1m/BTCUSDT-1m-2018-01.csv\", header=None)\n",
    "df.columns = [\"open_time\", \"open\", \"high\", \"low\", \"close\", \"volume\",\n",
    "              \"close_time\", \"quote_volume\", \"num_trades\",\n",
    "              \"taker_buy_base\", \"taker_buy_quote\", \"ignore\"]\n",
    "df[\"open_time\"] = pd.to_datetime(df[\"open_time\"], unit='ms')\n",
    "df[\"close_time\"] = pd.to_datetime(df[\"close_time\"], unit='ms')\n",
    "df.head()"
   ]
  },
  {
   "cell_type": "code",
   "execution_count": null,
   "id": "59a09ed7",
   "metadata": {},
   "outputs": [],
   "source": [
    "#subprocess.run([\"bash\", \"-c\", \"echo Hello from Bash\"])\n",
    "res = subprocess.run([\"bash\", \"-c\", \"ls\"], capture_output=True, text=True)\n",
    "print(res.stdout)\n",
    "res.stdout.split()"
   ]
  }
 ],
 "metadata": {
  "kernelspec": {
   "display_name": "base",
   "language": "python",
   "name": "python3"
  },
  "language_info": {
   "codemirror_mode": {
    "name": "ipython",
    "version": 3
   },
   "file_extension": ".py",
   "mimetype": "text/x-python",
   "name": "python",
   "nbconvert_exporter": "python",
   "pygments_lexer": "ipython3",
   "version": "3.12.7"
  }
 },
 "nbformat": 4,
 "nbformat_minor": 5
}
