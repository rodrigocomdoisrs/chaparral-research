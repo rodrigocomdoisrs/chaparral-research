{
 "cells": [
  {
   "cell_type": "code",
   "execution_count": null,
   "id": "1b31671f",
   "metadata": {},
   "outputs": [],
   "source": [
    "import requests\n",
    "import zipfile\n",
    "import shutil\n",
    "import pandas as pd\n",
    "import pprint\n",
    "from datetime import datetime, timedelta\n",
    "from io import BytesIO\n",
    "import os\n",
    "import sys\n",
    "import subprocess"
   ]
  },
  {
   "cell_type": "code",
   "execution_count": null,
   "id": "59ed5999",
   "metadata": {},
   "outputs": [],
   "source": [
    "zip_file_urls = [\n",
    "    \"https://data.binance.vision/data/spot/daily/klines/BTCUSDT/1m/BTCUSDT-1m-2017-08-17.zip\",\n",
    "    \"https://data.binance.vision/data/spot/daily/klines/BTCUSDT/1m/BTCUSDT-1m-2017-08-18.zip\",\n",
    "    \"https://data.binance.vision/data/spot/daily/klines/BTCUSDT/1m/BTCUSDT-1m-2017-08-19.zip\"\n",
    "    ]"
   ]
  },
  {
   "cell_type": "code",
   "execution_count": null,
   "id": "53ac6ccc",
   "metadata": {},
   "outputs": [],
   "source": [
    "zip_file_url=\"https://data.binance.vision/data/spot/daily/klines/BTCUSDT/1m/\"\n",
    "r = requests.get(zip_file_url, stream=True)"
   ]
  },
  {
   "cell_type": "code",
   "execution_count": null,
   "id": "a7465b38",
   "metadata": {},
   "outputs": [],
   "source": [
    "import requests\n",
    "from bs4 import BeautifulSoup\n",
    "\n",
    "\n",
    "url = 'https://data.binance.vision/data/spot/daily/klines/BTCUSDT/1m/\"'\n",
    "reqs = requests.get(url)\n",
    "soup = BeautifulSoup(reqs.text, 'lxml')\n",
    "\n",
    "urls = []\n",
    "for link in soup.find_all('a'):\n",
    "    print(link.get('href'))"
   ]
  },
  {
   "cell_type": "code",
   "execution_count": null,
   "id": "c346fdce",
   "metadata": {},
   "outputs": [],
   "source": [
    "soup\n"
   ]
  },
  {
   "cell_type": "code",
   "execution_count": null,
   "id": "933b9e38",
   "metadata": {},
   "outputs": [],
   "source": [
    "os.path.exists(\"./BTCUSDT-1m\")"
   ]
  },
  {
   "cell_type": "code",
   "execution_count": null,
   "id": "6a7027c7",
   "metadata": {},
   "outputs": [],
   "source": [
    "shutil.rmtree(\"./BTCUSDT-1m\")"
   ]
  },
  {
   "cell_type": "code",
   "execution_count": null,
   "id": "5f46e18b",
   "metadata": {},
   "outputs": [],
   "source": [
    "import requests, zipfile\n",
    "zip_file_url=\"https://data.binance.vision/data/spot/daily/klines/BTCUSDT/1m/BTCUSDT-1m-2025-06-29.zip\"\n",
    "r = requests.get(zip_file_url, stream=True)\n",
    "z = zipfile.ZipFile(BytesIO(r.content))\n",
    "z.extractall()"
   ]
  },
  {
   "cell_type": "code",
   "execution_count": 9,
   "id": "ad6c33a1",
   "metadata": {},
   "outputs": [],
   "source": [
    "import src"
   ]
  },
  {
   "cell_type": "code",
   "execution_count": 12,
   "id": "30966798",
   "metadata": {},
   "outputs": [
    {
     "data": {
      "text/plain": [
       "<function src.data.get_date_range(start, end, interval='days')>"
      ]
     },
     "execution_count": 12,
     "metadata": {},
     "output_type": "execute_result"
    }
   ],
   "source": [
    "#src.data.get_date_range\n",
    "src.data.get_date_range"
   ]
  }
 ],
 "metadata": {
  "kernelspec": {
   "display_name": "base",
   "language": "python",
   "name": "python3"
  },
  "language_info": {
   "codemirror_mode": {
    "name": "ipython",
    "version": 3
   },
   "file_extension": ".py",
   "mimetype": "text/x-python",
   "name": "python",
   "nbconvert_exporter": "python",
   "pygments_lexer": "ipython3",
   "version": "3.12.7"
  }
 },
 "nbformat": 4,
 "nbformat_minor": 5
}
