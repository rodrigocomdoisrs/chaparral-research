{
 "cells": [
  {
   "cell_type": "code",
   "execution_count": 7,
   "id": "1bb35c08",
   "metadata": {},
   "outputs": [
    {
     "ename": "AttributeError",
     "evalue": "'DatetimeProperties' object has no attribute 'isoformat'",
     "output_type": "error",
     "traceback": [
      "\u001b[0;31m---------------------------------------------------------------------------\u001b[0m",
      "\u001b[0;31mAttributeError\u001b[0m                            Traceback (most recent call last)",
      "Cell \u001b[0;32mIn[7], line 36\u001b[0m\n\u001b[1;32m     33\u001b[0m     \u001b[38;5;28;01mreturn\u001b[39;00m df[[\u001b[38;5;124m\"\u001b[39m\u001b[38;5;124mtime\u001b[39m\u001b[38;5;124m\"\u001b[39m, \u001b[38;5;124m\"\u001b[39m\u001b[38;5;124mopenInterest\u001b[39m\u001b[38;5;124m\"\u001b[39m]]\n\u001b[1;32m     35\u001b[0m \u001b[38;5;66;03m# Run and save\u001b[39;00m\n\u001b[0;32m---> 36\u001b[0m funding_df \u001b[38;5;241m=\u001b[39m fetch_funding_rate(SYMBOL)\n\u001b[1;32m     37\u001b[0m oi_df \u001b[38;5;241m=\u001b[39m fetch_open_interest(SYMBOL)\n\u001b[1;32m     39\u001b[0m funding_df\u001b[38;5;241m.\u001b[39mto_csv(\u001b[38;5;124m\"\u001b[39m\u001b[38;5;124mbinance_derivatives/funding_rate_btcusdt.csv\u001b[39m\u001b[38;5;124m\"\u001b[39m, index\u001b[38;5;241m=\u001b[39m\u001b[38;5;28;01mFalse\u001b[39;00m)\n",
      "Cell \u001b[0;32mIn[7], line 21\u001b[0m, in \u001b[0;36mfetch_funding_rate\u001b[0;34m(symbol, limit)\u001b[0m\n\u001b[1;32m     19\u001b[0m data \u001b[38;5;241m=\u001b[39m response\u001b[38;5;241m.\u001b[39mjson()\n\u001b[1;32m     20\u001b[0m df \u001b[38;5;241m=\u001b[39m pd\u001b[38;5;241m.\u001b[39mDataFrame(data)\n\u001b[0;32m---> 21\u001b[0m df[\u001b[38;5;124m\"\u001b[39m\u001b[38;5;124mfundingTime\u001b[39m\u001b[38;5;124m\"\u001b[39m] \u001b[38;5;241m=\u001b[39m pd\u001b[38;5;241m.\u001b[39mto_datetime(df[\u001b[38;5;124m\"\u001b[39m\u001b[38;5;124mfundingTime\u001b[39m\u001b[38;5;124m\"\u001b[39m], unit\u001b[38;5;241m=\u001b[39m\u001b[38;5;124m\"\u001b[39m\u001b[38;5;124mms\u001b[39m\u001b[38;5;124m\"\u001b[39m)\u001b[38;5;241m.\u001b[39mdt\u001b[38;5;241m.\u001b[39misoformat()\n\u001b[1;32m     22\u001b[0m df[\u001b[38;5;124m\"\u001b[39m\u001b[38;5;124mfundingRate\u001b[39m\u001b[38;5;124m\"\u001b[39m] \u001b[38;5;241m=\u001b[39m df[\u001b[38;5;124m\"\u001b[39m\u001b[38;5;124mfundingRate\u001b[39m\u001b[38;5;124m\"\u001b[39m]\u001b[38;5;241m.\u001b[39mastype(\u001b[38;5;28mfloat\u001b[39m)\n\u001b[1;32m     23\u001b[0m \u001b[38;5;28;01mreturn\u001b[39;00m df[[\u001b[38;5;124m\"\u001b[39m\u001b[38;5;124mfundingTime\u001b[39m\u001b[38;5;124m\"\u001b[39m, \u001b[38;5;124m\"\u001b[39m\u001b[38;5;124mfundingRate\u001b[39m\u001b[38;5;124m\"\u001b[39m]]\n",
      "\u001b[0;31mAttributeError\u001b[0m: 'DatetimeProperties' object has no attribute 'isoformat'"
     ]
    }
   ],
   "source": [
    "import os\n",
    "import requests\n",
    "import pandas as pd\n",
    "from datetime import datetime\n",
    "\n",
    "# Output directory\n",
    "os.makedirs(\"binance_derivatives\", exist_ok=True)\n",
    "\n",
    "# URLs\n",
    "FUNDING_URL = \"https://fapi.binance.com/fapi/v1/fundingRate\"\n",
    "OPEN_INTEREST_URL = \"https://fapi.binance.com/fapi/v1/openInterest\"\n",
    "SYMBOL = \"BTCUSDT\"\n",
    "\n",
    "# Fetch funding rate history\n",
    "def fetch_funding_rate(symbol, limit=1000):\n",
    "    params = {\"symbol\": symbol, \"limit\": limit}\n",
    "    response = requests.get(FUNDING_URL, params=params)\n",
    "    response.raise_for_status()\n",
    "    data = response.json()\n",
    "    df = pd.DataFrame(data)\n",
    "    df[\"fundingTime\"] = pd.to_datetime(df[\"fundingTime\"], unit=\"ms\").dt.isoformat()\n",
    "    df[\"fundingRate\"] = df[\"fundingRate\"].astype(float)\n",
    "    return df[[\"fundingTime\", \"fundingRate\"]]\n",
    "\n",
    "# Fetch current open interest\n",
    "def fetch_open_interest(symbol):\n",
    "    response = requests.get(OPEN_INTEREST_URL, params={\"symbol\": symbol})\n",
    "    response.raise_for_status()\n",
    "    data = response.json()\n",
    "    df = pd.DataFrame([data])\n",
    "    df[\"time\"] = datetime.now().isoformat()\n",
    "    df[\"openInterest\"] = df[\"openInterest\"].astype(float)\n",
    "    return df[[\"time\", \"openInterest\"]]\n",
    "\n",
    "# Run and save\n",
    "funding_df = fetch_funding_rate(SYMBOL)\n",
    "oi_df = fetch_open_interest(SYMBOL)\n",
    "\n",
    "funding_df.to_csv(\"binance_derivatives/funding_rate_btcusdt.csv\", index=False)\n",
    "oi_df.to_csv(\"binance_derivatives/open_interest_btcusdt.csv\", index=False)\n",
    "\n",
    "print(\"✅ Funding rate and open interest saved.\")\n"
   ]
  },
  {
   "cell_type": "code",
   "execution_count": null,
   "id": "ed710c7a",
   "metadata": {},
   "outputs": [
    {
     "data": {
      "text/plain": [
       "'2025-07-13T16:14:51.806110'"
      ]
     },
     "execution_count": 5,
     "metadata": {},
     "output_type": "execute_result"
    }
   ],
   "source": []
  }
 ],
 "metadata": {
  "kernelspec": {
   "display_name": "base",
   "language": "python",
   "name": "python3"
  },
  "language_info": {
   "codemirror_mode": {
    "name": "ipython",
    "version": 3
   },
   "file_extension": ".py",
   "mimetype": "text/x-python",
   "name": "python",
   "nbconvert_exporter": "python",
   "pygments_lexer": "ipython3",
   "version": "3.12.7"
  }
 },
 "nbformat": 4,
 "nbformat_minor": 5
}
