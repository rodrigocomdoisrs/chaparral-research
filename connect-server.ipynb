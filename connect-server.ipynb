{
 "cells": [
  {
   "cell_type": "code",
   "execution_count": 1,
   "id": "a6511702",
   "metadata": {},
   "outputs": [],
   "source": [
    "import paramiko\n",
    "import os\n",
    "import pysftp\n",
    "import sys\n",
    "import pprint"
   ]
  },
  {
   "cell_type": "markdown",
   "id": "3c09e144",
   "metadata": {},
   "source": [
    "**Test connection**"
   ]
  },
  {
   "cell_type": "code",
   "execution_count": 3,
   "id": "6a6646a3",
   "metadata": {},
   "outputs": [
    {
     "name": "stdout",
     "output_type": "stream",
     "text": [
      "--> Remote directory: /home/rodrigo/ST16000NM000J/chaparral-research\n",
      "\n",
      "--> Directory contents: \n",
      "   --> DATA\n",
      "   --> DOCS\n",
      "   --> README.md\n",
      "   --> REPORTS\n",
      "   --> SCRIPTS\n",
      "   --> SETTINGS\n"
     ]
    }
   ],
   "source": [
    "host = \"cnx-casa\"\n",
    "password = \"root\"\n",
    "username = \"rodrigo\"\n",
    "path = '/home/rodrigo/ST16000NM000J/chaparral-research'\n",
    "\n",
    "with pysftp.Connection(host, username=username, password=password, default_path=path) as sftp:\n",
    "    _HOST_PWD = sftp.getcwd()\n",
    "    print(\"--> Remote directory: {}\\n\".format(_HOST_PWD))\n",
    "    \n",
    "    _HOST_LS = sftp.listdir()\n",
    "    #print(\"--> List directory: \\n{}\".format(_HOST_LS))\n",
    "    print(\"{}{}{}\".format(\"--> Directory contents: \\n\", \"   --> \", \"\\n   --> \".join(_HOST_LS)))\n",
    "\n",
    "    "
   ]
  },
  {
   "cell_type": "code",
   "execution_count": null,
   "id": "7e65d89f",
   "metadata": {},
   "outputs": [],
   "source": [
    "with pysftp.Connection(host, username=username, password=password, default_path=path) as sftp:\n",
    "    sftp.chdir(\"./DATA/BTCUSDT-1m\")\n",
    "    _HOST_LS = sftp.listdir()"
   ]
  },
  {
   "cell_type": "code",
   "execution_count": null,
   "id": "033b1120",
   "metadata": {},
   "outputs": [],
   "source": [
    "_HOST_LS"
   ]
  }
 ],
 "metadata": {
  "kernelspec": {
   "display_name": "base",
   "language": "python",
   "name": "python3"
  },
  "language_info": {
   "codemirror_mode": {
    "name": "ipython",
    "version": 3
   },
   "file_extension": ".py",
   "mimetype": "text/x-python",
   "name": "python",
   "nbconvert_exporter": "python",
   "pygments_lexer": "ipython3",
   "version": "3.13.2"
  }
 },
 "nbformat": 4,
 "nbformat_minor": 5
}
