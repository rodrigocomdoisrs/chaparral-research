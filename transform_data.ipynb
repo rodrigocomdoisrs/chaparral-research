{
 "cells": [
  {
   "cell_type": "code",
   "execution_count": null,
   "id": "166c9387",
   "metadata": {},
   "outputs": [],
   "source": [
    "import pandas as pd\n",
    "import os\n",
    "import sys\n",
    "from datetime import datetime, timedelta\n",
    "\n",
    "DATA_DIR = \"/home/rodrigo/desktop/BTCUSDT-1s\"\n",
    "\n",
    "PARAMS = {\n",
    "    \"COLUMNS\" : {\n",
    "        \"price_open\" : \"PO\",\n",
    "        \"price_close\" : \"PC\",\n",
    "        \"price_high\" : \"PH\",\n",
    "        \"price_low\" : \"PL\",\n",
    "        \"time_open\" : \"TO\",\n",
    "        \"time_close\" : \"TC\",\n",
    "        \"volume\" : \"V\",\n",
    "        \"quote_volume\" : \"QV\",\n",
    "        \"num_trades\" : \"NT\",\n",
    "        \"taker_buy_base\" : \"TBB\",\n",
    "        \"taker_buy_quote\" : \"TBQ\",\n",
    "        \"ignore_flag\" : \"ignore\",\n",
    "        \"time_open_minutes\" : \"TO_min\",\n",
    "        \"time_close_minutes\" : \"TC_min\"\n",
    "    }\n",
    "    \n",
    "}"
   ]
  },
  {
   "cell_type": "code",
   "execution_count": null,
   "id": "d31b1ccd",
   "metadata": {},
   "outputs": [],
   "source": [
    "files = os.listdir(DATA_DIR)"
   ]
  },
  {
   "cell_type": "code",
   "execution_count": null,
   "id": "4d9ad7f5",
   "metadata": {},
   "outputs": [],
   "source": [
    "def get_data_table(filename):\n",
    "    df = None\n",
    "    df = pd.read_csv(os.path.join(DATA_DIR, files[1]), header=None)\n",
    "    return df\n",
    "\n",
    "def get_file_timestamp(filename):\n",
    "    timestamp = None\n",
    "    if filename.startswith('BTCUSDT-1s-') and filename.endswith('.csv'):\n",
    "        timestamp = pd.Timestamp(filename.split('BTCUSDT-1s-')[-1].split('.csv')[0])\n",
    "    return timestamp\n",
    "\n",
    "def format_data(df_in):\n",
    "    df_out = df_in.copy()\n",
    "\n",
    "    df_out.columns = list(PARAMS['COLUMNS'].values())[:-2]\n",
    "\n",
    "    # df_out.columns = [\"to\", \"po\", \"ph\", \"pl\", \"pc\", \"v\",\n",
    "    #             \"tc\", \"qv\", \"nt\",\n",
    "    #             \"tbb\", \"tbq\", \"ignore\"]\n",
    "    \n",
    "    df_out[PARAMS[\"COLUMNS\"][\"time_open_minutes\"]] = pd.to_datetime(df_out[PARAMS[\"COLUMNS\"][\"time_open\"]], unit='ms')\n",
    "    df_out[PARAMS[\"COLUMNS\"][\"time_open_minutes\"]] = df_out[PARAMS[\"COLUMNS\"][\"time_open_minutes\"]].dt.strftime('%Y-%m-%d %H:%M')\n",
    "\n",
    "    df_out[PARAMS[\"COLUMNS\"][\"time_close_minutes\"]] = pd.to_datetime(df_out[PARAMS[\"COLUMNS\"][\"time_close\"]], unit='ms')\n",
    "    df_out[PARAMS[\"COLUMNS\"][\"time_close_minutes\"]] = df_out[PARAMS[\"COLUMNS\"][\"time_close_minutes\"]].dt.strftime('%Y-%m-%d %H:%M')\n",
    "    \n",
    "\n",
    "    return df_out"
   ]
  },
  {
   "cell_type": "code",
   "execution_count": null,
   "id": "ee397f6a",
   "metadata": {},
   "outputs": [],
   "source": [
    "df = get_data_table(files[0])\n"
   ]
  },
  {
   "cell_type": "code",
   "execution_count": null,
   "id": "de1165a6",
   "metadata": {},
   "outputs": [],
   "source": [
    "df = format_data(df)"
   ]
  },
  {
   "cell_type": "code",
   "execution_count": null,
   "id": "03963f96",
   "metadata": {},
   "outputs": [],
   "source": [
    "df"
   ]
  },
  {
   "cell_type": "code",
   "execution_count": null,
   "id": "abe19221",
   "metadata": {},
   "outputs": [],
   "source": [
    "df['close_time_min'] = df['close_time'].dt.strftime('%Y-%m-%d %H:%M')"
   ]
  },
  {
   "cell_type": "code",
   "execution_count": null,
   "id": "664cf8e6",
   "metadata": {},
   "outputs": [],
   "source": [
    "df"
   ]
  },
  {
   "cell_type": "code",
   "execution_count": null,
   "id": "35f379b2",
   "metadata": {},
   "outputs": [],
   "source": [
    "df['volume'].values[0:60].sum()"
   ]
  },
  {
   "cell_type": "code",
   "execution_count": null,
   "id": "6032657e",
   "metadata": {},
   "outputs": [],
   "source": [
    "df['volume'].values[60:120].sum()"
   ]
  },
  {
   "cell_type": "code",
   "execution_count": null,
   "id": "49c33440",
   "metadata": {},
   "outputs": [],
   "source": [
    "df.groupby('open_time_min').get_group('2017-08-18 00:00')"
   ]
  },
  {
   "cell_type": "code",
   "execution_count": null,
   "id": "5260faae",
   "metadata": {},
   "outputs": [],
   "source": [
    "min_groups = df.groupby('open_time_min')\n",
    "\n",
    "for min_group in list(min_groups.groups.keys()):\n",
    "    print(min_group)\n",
    "    min_group_df = min_groups.get_group(min_group)\n",
    "    print('')"
   ]
  },
  {
   "cell_type": "code",
   "execution_count": null,
   "id": "0bb42dc7",
   "metadata": {},
   "outputs": [],
   "source": [
    "df_min = min_groups.get_group('2017-08-18 00:00')\n",
    "df_min"
   ]
  },
  {
   "cell_type": "code",
   "execution_count": null,
   "id": "5fdb4960",
   "metadata": {},
   "outputs": [],
   "source": [
    "df['open_time'].iloc[0]"
   ]
  },
  {
   "cell_type": "code",
   "execution_count": null,
   "id": "75cb74f3",
   "metadata": {},
   "outputs": [],
   "source": [
    "sys.getsizeof(df)/(1024**2)"
   ]
  }
 ],
 "metadata": {
  "kernelspec": {
   "display_name": "base",
   "language": "python",
   "name": "python3"
  },
  "language_info": {
   "codemirror_mode": {
    "name": "ipython",
    "version": 3
   },
   "file_extension": ".py",
   "mimetype": "text/x-python",
   "name": "python",
   "nbconvert_exporter": "python",
   "pygments_lexer": "ipython3",
   "version": "3.12.7"
  }
 },
 "nbformat": 4,
 "nbformat_minor": 5
}
