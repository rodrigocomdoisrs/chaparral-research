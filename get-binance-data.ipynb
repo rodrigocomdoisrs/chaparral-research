{
 "cells": [
  {
   "cell_type": "code",
   "execution_count": null,
   "id": "d6d4f029",
   "metadata": {},
   "outputs": [],
   "source": [
    "import requests\n",
    "from bs4 import BeautifulSoup\n",
    "\n",
    "# Target URL\n",
    "url = \"https://data.binance.vision/?prefix=data/spot/daily/klines/BTCUSDT/1m/\"\n",
    "\n",
    "# Send GET request\n",
    "response = requests.get(url)\n",
    "response.raise_for_status()  # raise exception if failed\n",
    "\n",
    "# Parse the HTML\n",
    "soup = BeautifulSoup(response.text, \"html.parser\")\n",
    "\n",
    "# Extract all links\n",
    "base_url = \"https://data.binance.vision\"\n",
    "links = []\n",
    "\n",
    "for link in soup.find_all('a'):\n",
    "    href = link.get('href')\n",
    "    if href and href.endswith('.zip'):\n",
    "        # Construct full URL\n",
    "        full_url = base_url + href\n",
    "        links.append(full_url)\n",
    "\n",
    "# Output result\n",
    "for link in links:\n",
    "    print(link)\n"
   ]
  },
  {
   "cell_type": "code",
   "execution_count": null,
   "id": "1964621e",
   "metadata": {},
   "outputs": [],
   "source": [
    "soup"
   ]
  },
  {
   "cell_type": "code",
   "execution_count": null,
   "id": "ae72359b",
   "metadata": {},
   "outputs": [],
   "source": [
    "import requests\n",
    "import xml.etree.ElementTree as ET\n",
    "\n",
    "# Target URL\n",
    "url = \"https://data.binance.vision/?prefix=data/spot/daily/klines/BTCUSDT/1m/\"\n",
    "\n",
    "# Fetch the XML listing\n",
    "response = requests.get(url)\n",
    "response.raise_for_status()\n",
    "\n",
    "# Parse the XML content\n",
    "root = ET.fromstring(response.content)\n",
    "\n",
    "# Namespace handling (needed for XML like this)\n",
    "namespace = {'s3': 'http://s3.amazonaws.com/doc/2006-03-01/'}\n",
    "\n",
    "# Extract keys ending in '.zip'\n",
    "base_url = \"https://data.binance.vision/\"\n",
    "links = []\n",
    "\n",
    "for contents in root.findall('s3:Contents', namespace):\n",
    "    key = contents.find('s3:Key', namespace).text\n",
    "    if key.endswith('.zip'):\n",
    "        links.append(base_url + key)\n",
    "\n",
    "# Print the links\n",
    "for link in links:\n",
    "    print(link)\n"
   ]
  },
  {
   "cell_type": "code",
   "execution_count": null,
   "id": "c32d685d",
   "metadata": {},
   "outputs": [],
   "source": [
    "import requests\n",
    "import re\n",
    "\n",
    "# Target URL\n",
    "url = \"https://data.binance.vision/?prefix=data/spot/daily/klines/BTCUSDT/1m/\"\n",
    "\n",
    "# Fetch the HTML\n",
    "response = requests.get(url)\n",
    "response.raise_for_status()\n",
    "html = response.text\n",
    "\n",
    "# Regex to extract .zip links\n",
    "pattern = re.compile(r'href=\"(/data/spot/daily/klines/BTCUSDT/1m/[^\"]+\\.zip)\"')\n",
    "matches = pattern.findall(html)\n",
    "\n",
    "# Build full URLs\n",
    "base_url = \"https://data.binance.vision\"\n",
    "links = [base_url + match for match in matches]\n",
    "\n",
    "# Print results\n",
    "for link in links:\n",
    "    print(link)\n"
   ]
  },
  {
   "cell_type": "code",
   "execution_count": null,
   "id": "0bb53d4a",
   "metadata": {},
   "outputs": [],
   "source": [
    "from datetime import datetime, timedelta\n",
    "\n",
    "start_date = datetime.strptime(\"2017-08-17\", \"%Y-%m-%d\")\n",
    "end_date = datetime.strptime(\"2025-06-29\", \"%Y-%m-%d\")\n",
    "\n",
    "current_date = start_date\n",
    "while current_date <= end_date:\n",
    "    print(current_date.strftime(\"%Y-%m-%d\"))\n",
    "    current_date += timedelta(days=1)\n"
   ]
  },
  {
   "cell_type": "code",
   "execution_count": null,
   "id": "877776f1",
   "metadata": {},
   "outputs": [],
   "source": [
    "import requests, zipfile\n",
    "from io import BytesIO\n",
    "from datetime import datetime, timedelta"
   ]
  },
  {
   "cell_type": "code",
   "execution_count": null,
   "id": "371bd1bb",
   "metadata": {},
   "outputs": [],
   "source": [
    "def date_range(start, end):\n",
    "    current = start\n",
    "    while current <= end:\n",
    "        yield current\n",
    "        current += timedelta(days=1)\n",
    "\n",
    "start_date = datetime(2017, 8, 17)\n",
    "end_date = datetime(2025, 6 , 29)\n",
    "\n",
    "for date in date_range(start_date, end_date):\n",
    "    print(date.strftime(\"%Y-%m-%d\"))\n"
   ]
  },
  {
   "cell_type": "code",
   "execution_count": null,
   "id": "134c28c4",
   "metadata": {},
   "outputs": [],
   "source": []
  },
  {
   "cell_type": "code",
   "execution_count": 14,
   "id": "7380b603",
   "metadata": {},
   "outputs": [],
   "source": [
    "import requests, zipfile\n",
    "from io import BytesIO\n",
    "\n",
    "zip_file_url=\"https://data.binance.vision/data/spot/daily/klines/BTCUSDT/1m/BTCUSDT-1m-2025-06-28.zip\"\n",
    "r = requests.get(zip_file_url, stream=True)\n",
    "z = zipfile.ZipFile(BytesIO(r.content))\n",
    "z.extractall()"
   ]
  },
  {
   "cell_type": "code",
   "execution_count": 15,
   "id": "98defbf9",
   "metadata": {},
   "outputs": [],
   "source": [
    "import subprocess, sys"
   ]
  },
  {
   "cell_type": "code",
   "execution_count": null,
   "id": "d8a9f541",
   "metadata": {},
   "outputs": [],
   "source": [
    "os.remove(\"BTCUSDT-1m-2025-06-29.csv\")"
   ]
  },
  {
   "cell_type": "code",
   "execution_count": null,
   "id": "18c8651a",
   "metadata": {},
   "outputs": [],
   "source": [
    "import time\n",
    "startTime = time.time()\n",
    "for i in range(0,5):\n",
    "   print(i)\n",
    "   # making delay for 1 second\n",
    "   time.sleep(1)\n",
    "endTime = time.time()\n",
    "elapsedTime = endTime - startTime\n",
    "print(\"Elapsed Time = %s\" % elapsedTime)"
   ]
  }
 ],
 "metadata": {
  "kernelspec": {
   "display_name": "base",
   "language": "python",
   "name": "python3"
  },
  "language_info": {
   "codemirror_mode": {
    "name": "ipython",
    "version": 3
   },
   "file_extension": ".py",
   "mimetype": "text/x-python",
   "name": "python",
   "nbconvert_exporter": "python",
   "pygments_lexer": "ipython3",
   "version": "3.12.7"
  }
 },
 "nbformat": 4,
 "nbformat_minor": 5
}
