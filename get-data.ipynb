{
 "cells": [
  {
   "cell_type": "code",
   "execution_count": 1,
   "id": "4b4601de",
   "metadata": {},
   "outputs": [],
   "source": [
    "import os\n",
    "import requests\n",
    "import zipfile\n",
    "from datetime import datetime, timedelta\n",
    "from io import BytesIO\n",
    "import pandas as pd\n",
    "import time\n",
    "\n",
    "data_path = \"/home/rodrigo/desktop/BTCUSDT-1s\""
   ]
  },
  {
   "cell_type": "code",
   "execution_count": null,
   "id": "a877644f",
   "metadata": {},
   "outputs": [],
   "source": [
    "\n",
    "if os.path.exists(data_path) == False:\n",
    "    os.mkdir(data_path)\n",
    "start = datetime(2017, 8, 17)\n",
    "#start = datetime(2025, 6, 25)\n",
    "stop = datetime(2025, 6 , 29)\n",
    "current = start\n",
    "while current <= stop:    \n",
    "    ti = time.time()\n",
    "    u = \"https://data.binance.vision/data/spot/daily/klines/BTCUSDT/1s/BTCUSDT-1s-{}.zip\".format(current.strftime(\"%Y-%m-%d\"))\n",
    "    r = requests.get(u, stream=True)\n",
    "    z = zipfile.ZipFile(BytesIO(r.content))\n",
    "    z.extractall(path=data_path)\n",
    "    tf = time.time()\n",
    "    T = tf-ti\n",
    "    print(current.strftime(\"%Y-%m-%d\"))\n",
    "    current += timedelta(days = 1)\n",
    "\n",
    "    time.sleep(1.000)\n",
    "\n",
    "    del ti, tf, T, u, r, z\n",
    "\n",
    "del start, stop, current, data_path\n"
   ]
  },
  {
   "cell_type": "code",
   "execution_count": null,
   "id": "9be882a4",
   "metadata": {},
   "outputs": [],
   "source": [
    "os.listdir(data_path)[0]"
   ]
  },
  {
   "cell_type": "code",
   "execution_count": null,
   "id": "37308a00",
   "metadata": {},
   "outputs": [],
   "source": [
    "df = pd.read_csv(os.path.join(data_path, os.listdir(data_path)[0]), header=None)\n",
    "df.columns = [\"open_time\", \"open\", \"high\", \"low\", \"close\", \"volume\",\n",
    "              \"close_time\", \"quote_volume\", \"num_trades\",\n",
    "              \"taker_buy_base\", \"taker_buy_quote\", \"ignore\"]\n",
    "df[\"open_time\"] = pd.to_datetime(df[\"open_time\"], unit='ms')\n",
    "df[\"close_time\"] = pd.to_datetime(df[\"close_time\"], unit='ms')\n",
    "df.head()"
   ]
  },
  {
   "cell_type": "code",
   "execution_count": null,
   "id": "290b92e2",
   "metadata": {},
   "outputs": [],
   "source": [
    "z.infolist()[0].file_size"
   ]
  },
  {
   "cell_type": "code",
   "execution_count": null,
   "id": "ad912ac0",
   "metadata": {},
   "outputs": [],
   "source": [
    "df = pd.read_csv(\"BTCUSDT-1s-2017-08-17.csv\", header=None)\n",
    "df.columns = [\"open_time\", \"open\", \"high\", \"low\", \"close\", \"volume\",\n",
    "              \"close_time\", \"quote_volume\", \"num_trades\",\n",
    "              \"taker_buy_base\", \"taker_buy_quote\", \"ignore\"]\n",
    "df[\"open_time\"] = pd.to_datetime(df[\"open_time\"], unit='ms')\n",
    "df[\"close_time\"] = pd.to_datetime(df[\"close_time\"], unit='ms')\n",
    "df.tail()"
   ]
  }
 ],
 "metadata": {
  "kernelspec": {
   "display_name": "base",
   "language": "python",
   "name": "python3"
  },
  "language_info": {
   "codemirror_mode": {
    "name": "ipython",
    "version": 3
   },
   "file_extension": ".py",
   "mimetype": "text/x-python",
   "name": "python",
   "nbconvert_exporter": "python",
   "pygments_lexer": "ipython3",
   "version": "3.12.7"
  }
 },
 "nbformat": 4,
 "nbformat_minor": 5
}
