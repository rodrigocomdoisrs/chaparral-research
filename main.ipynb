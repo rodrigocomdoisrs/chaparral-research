{
 "cells": [
  {
   "cell_type": "code",
   "execution_count": 1,
   "id": "0f844f4b",
   "metadata": {},
   "outputs": [],
   "source": [
    "import src\n",
    "import os\n",
    "import pprint\n",
    "from datetime import datetime, timedelta\n"
   ]
  },
  {
   "cell_type": "code",
   "execution_count": 3,
   "id": "4e1b4ad0",
   "metadata": {},
   "outputs": [],
   "source": [
    "src.get_price_data()"
   ]
  },
  {
   "cell_type": "code",
   "execution_count": null,
   "id": "70b1e939",
   "metadata": {},
   "outputs": [],
   "source": [
    "os.mkdir(\"/home/rodrigo/desktop/BTCUSDT-1m\")"
   ]
  },
  {
   "cell_type": "code",
   "execution_count": 23,
   "id": "0973b940",
   "metadata": {},
   "outputs": [],
   "source": [
    "DATA_PARAMS = {\n",
    "    \"START_DATE\" : datetime(2017, 8, 17),\n",
    "    \"END_DATE\" : datetime(2025, 6 , 29),\n",
    "    \"BASE_URL\" : \"https://data.binance.vision/data/spot/daily/klines/BTCUSDT/1m/BTCUSDT-1m-\"\n",
    "}"
   ]
  },
  {
   "cell_type": "code",
   "execution_count": null,
   "id": "845bffb5",
   "metadata": {},
   "outputs": [
    {
     "data": {
      "text/plain": [
       "'2017-08-17'"
      ]
     },
     "execution_count": 27,
     "metadata": {},
     "output_type": "execute_result"
    }
   ],
   "source": []
  },
  {
   "cell_type": "code",
   "execution_count": null,
   "id": "20486152",
   "metadata": {},
   "outputs": [
    {
     "data": {
      "text/plain": [
       "'https://data.binance.vision/data/spot/daily/klines/BTCUSDT/1m/BTCUSDT-1m-2017-08-17.zip'"
      ]
     },
     "execution_count": 29,
     "metadata": {},
     "output_type": "execute_result"
    }
   ],
   "source": []
  }
 ],
 "metadata": {
  "kernelspec": {
   "display_name": "base",
   "language": "python",
   "name": "python3"
  },
  "language_info": {
   "codemirror_mode": {
    "name": "ipython",
    "version": 3
   },
   "file_extension": ".py",
   "mimetype": "text/x-python",
   "name": "python",
   "nbconvert_exporter": "python",
   "pygments_lexer": "ipython3",
   "version": "3.12.7"
  }
 },
 "nbformat": 4,
 "nbformat_minor": 5
}
