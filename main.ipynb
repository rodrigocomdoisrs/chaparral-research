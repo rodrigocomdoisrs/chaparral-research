{
 "cells": [
  {
   "cell_type": "code",
   "execution_count": null,
   "id": "0f844f4b",
   "metadata": {},
   "outputs": [],
   "source": [
    "import src\n",
    "import os\n",
    "import pprint\n",
    "from datetime import datetime, timedelta\n"
   ]
  },
  {
   "cell_type": "code",
   "execution_count": null,
   "id": "845bffb5",
   "metadata": {},
   "outputs": [],
   "source": [
    "os.listdir(\"/home/rodrigo/desktop/BTCUSDT-1m\")"
   ]
  },
  {
   "cell_type": "code",
   "execution_count": null,
   "id": "20486152",
   "metadata": {},
   "outputs": [],
   "source": [
    "src.get_price_data()"
   ]
  },
  {
   "cell_type": "code",
   "execution_count": null,
   "id": "ddd9fc9d",
   "metadata": {},
   "outputs": [],
   "source": [
    "os.listdir"
   ]
  },
  {
   "cell_type": "code",
   "execution_count": null,
   "id": "2e96a3d1",
   "metadata": {},
   "outputs": [],
   "source": []
  }
 ],
 "metadata": {
  "kernelspec": {
   "display_name": "base",
   "language": "python",
   "name": "python3"
  },
  "language_info": {
   "codemirror_mode": {
    "name": "ipython",
    "version": 3
   },
   "file_extension": ".py",
   "mimetype": "text/x-python",
   "name": "python",
   "nbconvert_exporter": "python",
   "pygments_lexer": "ipython3",
   "version": "3.12.7"
  }
 },
 "nbformat": 4,
 "nbformat_minor": 5
}
